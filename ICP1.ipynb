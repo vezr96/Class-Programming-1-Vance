{
  "nbformat": 4,
  "nbformat_minor": 0,
  "metadata": {
    "colab": {
      "provenance": [],
      "authorship_tag": "ABX9TyOR+phmEkv4XHv/ulJa3pdg",
      "include_colab_link": true
    },
    "kernelspec": {
      "name": "python3",
      "display_name": "Python 3"
    },
    "language_info": {
      "name": "python"
    }
  },
  "cells": [
    {
      "cell_type": "markdown",
      "metadata": {
        "id": "view-in-github",
        "colab_type": "text"
      },
      "source": [
        "<a href=\"https://colab.research.google.com/github/vezr96/Class-Programming-1-Vance/blob/main/ICP1.ipynb\" target=\"_parent\"><img src=\"https://colab.research.google.com/assets/colab-badge.svg\" alt=\"Open In Colab\"/></a>"
      ]
    },
    {
      "cell_type": "code",
      "execution_count": 36,
      "metadata": {
        "colab": {
          "base_uri": "https://localhost:8080/"
        },
        "id": "Kottn3XBu-zv",
        "outputId": "2bf2f416-714b-4061-8827-bd75978a7548"
      },
      "outputs": [
        {
          "output_type": "stream",
          "name": "stdout",
          "text": [
            "<class 'str'>\n",
            "Unedited Python:  Python\n",
            "Word unedited:  Python\n",
            "minus two letters:  Pyth\n",
            "reversed:  htyP\n",
            "add:  12\n",
            "subtract:  6\n",
            "divide:  3.0\n",
            "I have never used pythons before today\n",
            "[65.8, 82.2, 95.0]\n",
            "Grade:  D\n",
            "Grade:  B\n",
            "Grade:  A\n",
            "[<class 'str'>, <class 'float'>, <class 'int'>]\n",
            "7\n",
            "{'Apple', 'Google', 'Twitter', 'Facebook', 'Amazon', 'Microsoft', 'IBM', 'Oracle'}\n",
            "{'Apple', 'Netflix', 'Amazon', 'Microsoft', 'IBM', 'Oracle', 'Newegg', 'Twitter', 'LinkedIn', 'Google', 'Facebook'}\n",
            "{'Netflix', 'Amazon', 'Microsoft', 'IBM', 'Oracle', 'Newegg', 'Twitter', 'LinkedIn', 'Google', 'Facebook'}\n",
            "{19, 20, 22, 24, 25, 26, 27, 28}\n",
            "{19, 20, 22, 24, 25, 26}\n",
            "{19, 20, 22, 24, 25, 26}\n",
            "False\n",
            "Joined A with B {19, 20, 22, 24, 25, 26, 27, 28}\n",
            "Joined B with A {19, 20, 22, 24, 25, 26, 27, 28}\n",
            "Symmetric_difference:  {27, 28}\n"
          ]
        }
      ],
      "source": [
        "print(type('Python'))\n",
        "Word1 = 'Python'\n",
        "print('Unedited Python: ',Word1)\n",
        "\n",
        "#5\n",
        "Language_Name = 'Python'\n",
        "print('Word unedited: ', Language_Name)\n",
        "minus_two = Language_Name[0:4]\n",
        "print('minus two letters: ', minus_two)\n",
        "reverse_minustwo = minus_two[::-1]\n",
        "print('reversed: ', reverse_minustwo)\n",
        "\n",
        "Number1 = 9\n",
        "Number2 = 3\n",
        "add = Number1 + Number2\n",
        "subtract = Number1 - Number2\n",
        "divide = Number1 / Number2\n",
        "\n",
        "print('add: ', add)\n",
        "print('subtract: ', subtract)\n",
        "print('divide: ', divide)\n",
        "\n",
        "#6\n",
        "Sentence = 'I have never used python before today'\n",
        "print(Sentence.replace('python', 'pythons'))\n",
        "\n",
        "#7\n",
        "grades = [65.8, 82.2, 95.0]\n",
        "print(grades)\n",
        "for grade in grades:\n",
        "  if grade >= 90:\n",
        "    Letter = 'A'\n",
        "  elif grade >= 80:\n",
        "    Letter = 'B'\n",
        "  elif grade >= 70:\n",
        "    Letter = 'C'\n",
        "  elif grade >= 60:\n",
        "    Letter = 'D'\n",
        "  else:\n",
        "    Letter = 'F'\n",
        "\n",
        "  print('Grade: ', Letter)\n",
        "\n",
        "  before_list = ['python', 99.99, 10]\n",
        "  after_list = []\n",
        "\n",
        "#8\n",
        "for element in before_list:\n",
        "  after_list.append(type(element))\n",
        "print(after_list)\n",
        "\n",
        "#9\n",
        "IT_companies = {'Facebook', 'Google', 'Microsoft', 'Apple', 'IBM', 'Oracle', 'Amazon'}\n",
        "A = {19, 22, 24, 20, 25, 26}\n",
        "B = {19, 22, 20, 25, 26, 24, 28, 27}\n",
        "age = [22, 19, 24, 25, 26, 24, 25, 24]\n",
        "\n",
        "length = len(IT_companies)\n",
        "print(length)\n",
        "IT_companies.add('Twitter')\n",
        "print(IT_companies)\n",
        "more_companies = ['LinkedIn', 'Netflix', 'Newegg']\n",
        "IT_companies.update(more_companies)\n",
        "print(IT_companies)\n",
        "IT_companies.remove('Apple')\n",
        "print(IT_companies)\n",
        "#The difference between remove and discard is that you use remove when you are unsure if an element is pesent in a list because it uses errors if the the selected element is not present so you know what is\n",
        "#where without stopping the code, and discard is used when you dont want to see an error at all but still want to remove and element from a list.\n",
        "Joined = A.union(B)\n",
        "print(Joined)\n",
        "Intersected = A.intersection(B)\n",
        "print(Intersected)\n",
        "Subset = A & B\n",
        "print(Subset)\n",
        "Disjoint = A.isdisjoint(B)\n",
        "print(Disjoint)\n",
        "JoinA_B = A | B\n",
        "JoinB_A = B | A\n",
        "print('Joined A with B', JoinA_B)\n",
        "print('Joined B with A', JoinB_A)\n",
        "Symmetric = A.symmetric_difference(B)\n",
        "print('Symmetric_difference: ', Symmetric) #The symmetric difference is 27 & 28\n",
        "del A\n",
        "del B\n",
        "age_set = set(age)\n",
        "lengthoflist = len(age)\n",
        "lengthofset = len(age_set)\n",
        "print('Length of the list: ', lengthoflist)\n",
        "print('Length of the set: ', lengthofset)\n",
        "\n"
      ]
    }
  ]
}