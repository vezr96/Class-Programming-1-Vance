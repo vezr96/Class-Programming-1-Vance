{
  "nbformat": 4,
  "nbformat_minor": 0,
  "metadata": {
    "colab": {
      "provenance": [],
      "toc_visible": true,
      "authorship_tag": "ABX9TyOIUYp0bTzmGOK0yW8o2qAy",
      "include_colab_link": true
    },
    "kernelspec": {
      "name": "python3",
      "display_name": "Python 3"
    },
    "language_info": {
      "name": "python"
    }
  },
  "cells": [
    {
      "cell_type": "markdown",
      "metadata": {
        "id": "view-in-github",
        "colab_type": "text"
      },
      "source": [
        "<a href=\"https://colab.research.google.com/github/vezr96/Class-Programming-1-Vance/blob/main/icp2.ipynb\" target=\"_parent\"><img src=\"https://colab.research.google.com/assets/colab-badge.svg\" alt=\"Open In Colab\"/></a>"
      ]
    },
    {
      "cell_type": "code",
      "execution_count": null,
      "metadata": {
        "id": "VvercQE2q787",
        "colab": {
          "base_uri": "https://localhost:8080/"
        },
        "outputId": "c4d1a44c-f360-4c52-b76b-08dd5ad219f1"
      },
      "outputs": [
        {
          "output_type": "stream",
          "name": "stdout",
          "text": [
            "Instance count: 2, Class count: 3\n",
            "Instance count: 1, Class count: 3\n"
          ]
        }
      ],
      "source": [
        "class Counter:\n",
        "  count = 0\n",
        "\n",
        "  def __init__(self):\n",
        "    self._count = 0\n",
        "\n",
        "  def increment(self):\n",
        "    self._count += 1\n",
        "    Counter.count += 1\n",
        "\n",
        "  def get_counts(self):\n",
        "    return f\"Instance count: {self._count}, Class count: {Counter.count}\"\n",
        "\n",
        "a = Counter()\n",
        "b = Counter()\n",
        "\n",
        "a.increment()\n",
        "a.increment()\n",
        "b.increment()\n",
        "\n",
        "print(a.get_counts())\n",
        "print(b.get_counts())"
      ]
    },
    {
      "cell_type": "code",
      "source": [],
      "metadata": {
        "id": "cSQBpH0D56pY"
      },
      "execution_count": null,
      "outputs": []
    },
    {
      "cell_type": "markdown",
      "source": [
        "1. Counter.count is a class variable that shares with all instances of the Counter class while self._count is an instance variable that is only specific to each instance of of Counter\n",
        "2. The output of a.get_counts is \"Instance count: 2, Class count: 3\" and b.getcounts is \"Instance count: 1, Class count: 3\".\n",
        "3. The increment method increased both variables self._count and Counter.count by 1, but the instance for a. counted 2 while b. only counted 1."
      ],
      "metadata": {
        "id": "hUjL06kDtn4Q"
      }
    },
    {
      "cell_type": "code",
      "source": [
        "def sum_all(args):\n",
        "  return sum(args)\n",
        "\n",
        "print(\"Sum of 1, 2, 3 is: \", sum_all([1, 2, 3]))\n",
        "print(\"Sum of 4, 5, 6, 7 is: \", sum_all([4, 5, 6, 7]))"
      ],
      "metadata": {
        "colab": {
          "base_uri": "https://localhost:8080/"
        },
        "id": "R-hd2RdgyUEC",
        "outputId": "ae3ae473-e1a6-4ec4-de1a-54861fd28b87"
      },
      "execution_count": null,
      "outputs": [
        {
          "output_type": "stream",
          "name": "stdout",
          "text": [
            "Sum of 1, 2, 3 is:  6\n",
            "Sum of 4, 5, 6, 7 is:  22\n"
          ]
        }
      ]
    },
    {
      "cell_type": "markdown",
      "source": [
        "All you have to do is change the arangment of the numbers to a list instead of a individual numbers"
      ],
      "metadata": {
        "id": "jtEF2AOIzSLu"
      }
    },
    {
      "cell_type": "code",
      "source": [
        "students = input(\" input a few strings: \").split()\n",
        "sortstudents = sorted(students)\n",
        "print(sortstudents)"
      ],
      "metadata": {
        "colab": {
          "base_uri": "https://localhost:8080/"
        },
        "id": "gdkf-7zyz02j",
        "outputId": "8ae4066b-c14b-45a9-9a47-9fa8a30f5af1"
      },
      "execution_count": null,
      "outputs": [
        {
          "output_type": "stream",
          "name": "stdout",
          "text": [
            " input a few strings: d c b a\n",
            "['a', 'b', 'c', 'd']\n"
          ]
        }
      ]
    },
    {
      "cell_type": "code",
      "source": [
        "class Employee:\n",
        "  count = 0\n",
        "  total_salary = 0\n",
        "\n",
        "  def __init__(self, name, family, salary, department):\n",
        "        self.name = name\n",
        "        self.family = family\n",
        "        self.salary = salary\n",
        "        self.department = department\n",
        "        Employee.count += 1\n",
        "        Employee.total_salary += salary\n",
        "\n",
        "  def average_salary(self):\n",
        "      if Employee.count > 0:\n",
        "        return Employee.total_salary / Employee.count\n",
        "      else:\n",
        "        return 0\n",
        "\n",
        "\n",
        "class FulltimeEmployee(Employee):\n",
        "    def __init__(self, name, family, salary, department):\n",
        "        super().__init__(name, family, salary, department)\n",
        "\n",
        "\n",
        "employee1 = Employee(\"John\", \"Doe\", 60000, \"IT\")\n",
        "employee2 = FulltimeEmployee(\"Jane\", \"Smith\", 75000, \"HR\")\n",
        "\n",
        "print(\"Average salary:\", employee1.average_salary())\n",
        "print(\"Total employees:\", Employee.count)"
      ],
      "metadata": {
        "id": "kM3xAwQ_1k2N",
        "colab": {
          "base_uri": "https://localhost:8080/"
        },
        "outputId": "332148f4-7163-44e0-ccda-e239524eaf14"
      },
      "execution_count": null,
      "outputs": [
        {
          "output_type": "stream",
          "name": "stdout",
          "text": [
            "Average salary: 67500.0\n",
            "Total employees: 2\n"
          ]
        }
      ]
    },
    {
      "cell_type": "markdown",
      "source": [
        "Part 4 was the only part that I did out of class. I created the Employee class with count and total_salary. I used def__init__ to contruct name,family, salary, and department. I used def function to calculate the average salary with an if statement in case if the salary is zero. I made a class called fulltimeEmployee that inherited the properties from the Employee. Finally I created the employee1 with Employee properties and employee2 with Fulltime Employee properties.  "
      ],
      "metadata": {
        "id": "DJp-17j3aC8i"
      }
    }
  ]
}